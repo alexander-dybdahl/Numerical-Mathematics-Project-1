{
 "cells": [
  {
   "cell_type": "markdown",
   "metadata": {},
   "source": [
    "## Project 1\n"
   ]
  },
  {
   "cell_type": "markdown",
   "metadata": {},
   "source": [
    "### Task 1\n",
    "\n",
    "#### 1.a)\n",
    "\n",
    " Let $𝑚 = 2$ and $𝑛 = 3$, that is, we consider linear systems of the form $𝐴𝒙 = 𝒚$ with $𝐴 ∈ \\mathbb{R}^{2×3}$, $𝒙 ∈ \\mathbb{R}^3$, and $𝒚 ∈ \\mathbb{R}^2$.\n",
    "\n",
    "Give two examples of 𝐴 and 𝒚 such that\n",
    "\n",
    "1. the linear system does not have a solution,\n",
    "2. the linear system has infinitely many solutions."
   ]
  },
  {
   "cell_type": "markdown",
   "metadata": {},
   "source": [
    "**SOLUTION**\n",
    "\n",
    "We have that\n",
    "\n",
    "$$\n",
    "Ax =\n",
    "\\begin{pmatrix}\n",
    "a_{11}x_1 & a_{12}x_2 & a_{13}x_3\\\\\n",
    "a_{21}x_1 & a_{22}x_2 & a_{23}x_3\n",
    "\\end{pmatrix} \n",
    "$$\n",
    "\n",
    "$$\n",
    "y = \n",
    "\\begin{pmatrix}\n",
    "y_1 \\\\\n",
    "y_2\n",
    "\\end{pmatrix}\n",
    "$$\n",
    "\n",
    "which is equivalent to\n",
    "\n",
    "$$\n",
    "a_{11} x_1 + a_{12} x_2 + a_{13} x_3 = y_1\n",
    "$$\n",
    "$$\n",
    "a_{21} x_1 + a_{22} x_2 + a_{23} x_3 = y_2\n",
    "$$\n",
    "\n",
    "For the first scenario (1.), where the system has no solution and is non-trivial ($A \\ne 0$), an example is:\n",
    "\n",
    "$$\n",
    "A =\n",
    "\\begin{pmatrix}\n",
    "1 & -1 & 1\\\\\n",
    "-1 & 1 & -1\n",
    "\\end{pmatrix} \n",
    "$$\n",
    "\n",
    "$$\n",
    "y = \n",
    "\\begin{pmatrix}\n",
    "1 \\\\\n",
    "1\n",
    "\\end{pmatrix}\n",
    "$$\n",
    "\n",
    "\n",
    "And for the second scenario (2.), where the system has infinitely many solutions and is non-trivial ($A \\ne 0$), an example is:\n",
    "\n",
    "\n",
    "$$\n",
    "A =\n",
    "\\begin{pmatrix}\n",
    "1 & 0 & 1\\\\\n",
    "0 & 1 & 0\n",
    "\\end{pmatrix} \n",
    "$$\n",
    "\n",
    "$$\n",
    "y = \n",
    "\\begin{pmatrix}\n",
    "1 \\\\\n",
    "1\n",
    "\\end{pmatrix}\n",
    "$$\n",
    "\n"
   ]
  },
  {
   "cell_type": "markdown",
   "metadata": {},
   "source": [
    "#### 1.b)\n",
    "\n",
    "Let $𝐴 ∈ \\mathbb{R}^{𝑚×𝑛}$, $𝑚 < 𝑛$. Show that both $𝐴^T𝐴$ and $𝐴𝐴^T$ are symmetric, and that both are positive semi-definite.\n",
    "\n",
    "What can you say about the invertibility of these two matrices if 𝐴 has full rank, that is $rank(𝐴) = 𝑚$?\n",
    "\n",
    "Hint. Use the identity $(𝐴𝐵)^T = 𝐵^T𝐴^T$, the fact that you can write $𝒙^T𝒙 = ∥𝒙∥^2$ as well as properties of the norm.\n",
    "\n"
   ]
  },
  {
   "cell_type": "markdown",
   "metadata": {},
   "source": [
    "**SOLUTION**\n",
    "\n",
    "Let $x \\in \\mathbb{R}^n$ and $y \\in \\mathbb{R}^m$, then\n",
    "\n",
    "$$x^TA^T Ax = (Ax)^T Ax = ∥Ax∥_2^2 ≥ 0$$\n",
    "\n",
    "$$y^TAA^Tx = (A^Ty)^T (A^Ty) = ∥A^Ty∥_2^2 ≥ 0$$\n",
    "\n",
    "\n",
    "When a $m\\times n$ matrix has full rank, we know that all columns are linearly independent which implies that the matrix is invertible. $A^T Ax = 0$ for a vector $x \\in \\mathbb{R}^n$, then $x = 0$\n",
    "\n",
    "$$x^T A^T Ax = ∥Ax∥_2^2 = 0$$\n",
    "\n",
    "hence $Ax = 0$, and since $A$ has full rank, then $x = 0$\n"
   ]
  },
  {
   "cell_type": "markdown",
   "metadata": {},
   "source": [
    "#### 1.c)\n",
    "\n",
    "Compute the two gradients $\\nabla_x \\mathcal{L}(x, \\lambda)$ and $\\nabla_\\lambda \\mathcal{L}(x, \\lambda)$ from (3) of the Lagrange function\n",
    "$\\mathcal{L}(x, \\lambda)$ from (2). Setting both gradients to zero, you can plug the first equation into\n",
    "the second. Use this to show that the solution to (1) is given by\n",
    "$$x_{min} = A^T(AA^T)^{−1}y$$"
   ]
  },
  {
   "cell_type": "markdown",
   "metadata": {},
   "source": [
    "**SOLUTION**\n",
    "\n",
    "We have the *Lagrange-function*:\n",
    "\n",
    "$$\\mathcal{L}(x, \\lambda) = x^T x + \\lambda^T (Ax - y)$$\n",
    "\n",
    "where $\\lambda \\in \\mathbb{R}^n$ are the *Lagrange multipliers*\n",
    "\n",
    "From the first equation we have that:\n",
    "\n",
    "$$\\begin{align*}\n",
    "\\nabla_x \\mathcal{L}(x, \\lambda)\n",
    "&= \\nabla_x (x^T x) + \\nabla_x(\\lambda^T (Ax - y)) \\\\\n",
    "&= 2x + (\\lambda^T A)^T \\\\\n",
    "&= 2x + A^T \\lambda\\end{align*}$$\n",
    "\n",
    "We then have that\n",
    "\n",
    "$$2x + A^T \\lambda = 0 \\tag{1}$$\n",
    "\n",
    "From the second equation we get:\n",
    "\n",
    "$$\\begin{align*}\n",
    "\\nabla_\\lambda \\mathcal{L}(x, \\lambda) \n",
    "&= Ax - y = 0\n",
    "\\end{align*}$$\n",
    "\n",
    "Hence:\n",
    "\n",
    "$$ x = A^{-1}y \\tag{2}$$\n",
    "\n",
    "Inserting $(2)$ in $(1)$, we get:\n",
    "\n",
    "$$2A^{-1}y + A^Ty = 0 \\tag{3}$$\n",
    "\n",
    "$$\\Rightarrow A^T \\lambda = -2A^{-1}$$\n",
    "\n",
    "$$\\Rightarrow \\lambda_{max} = -2(A A^T)^{-1}$$\n",
    "\n",
    "Inserting $\\lambda_{max}$ in $(1)$\n",
    "\n",
    "$$2x -2 A^T (A A^T)^{-1} = 0$$\n",
    "\n",
    "With solution:\n",
    "\n",
    "$$x_{min} = A^T (A A^T)^{-1} y"
   ]
  },
  {
   "cell_type": "markdown",
   "metadata": {},
   "source": [
    "#### 1.d)\n",
    "\n",
    "We further want to use the QR decomposition to solve (4) Show that $x_{min} = QR^{-T}y$ using the reduced QR decomposition of $𝐴^T = 𝑄𝑅$, where $𝑄 \\in \\mathbb{R}^{n\\times m}$ is orthogonal and $R \\in \\mathbb{R}^{m\\times m}$ is upper triangular. Note that for $R$ we have $R^{-T} = (R^T)^{−1} = (R^{−1})^T$.\n",
    "\n",
    "Implement a function that calculates the QR decomposition using one of the methods explained in lectures. Gram-Schmidt (or even better, Modified Gram-Schmidt), is most likely the easiest one to implement."
   ]
  },
  {
   "cell_type": "markdown",
   "metadata": {},
   "source": [
    "**SOLUTION**\n",
    "\n",
    "We have that:\n",
    "\n",
    "$$x_{min} = A^T (A A^T)^{-1} y$$\n",
    "\n",
    "$$A^T = QR$$\n",
    "\n",
    "Hence (using that $Q^T Q = I$ and assuming that the diagonal elements of $R$ are nonzero):\n",
    "\n",
    "$$\\begin{align*}\n",
    "x_{min}\n",
    "&= QR ((QR)^T QR)^{-1} y \\\\\n",
    "&= QR (R^T Q^T Q R)^{-1} y \\\\\n",
    "&= QR (R^T R)^{-1} y \\\\\n",
    "&= QR R^{-1} R^{-T} y \\\\\n",
    "&= Q R^{-T} y\n",
    "\\end{align*}$$\n"
   ]
  },
  {
   "cell_type": "markdown",
   "metadata": {},
   "source": [
    "**Gram-Schmidt**"
   ]
  },
  {
   "cell_type": "code",
   "execution_count": 53,
   "metadata": {},
   "outputs": [],
   "source": [
    "import numpy as np\n",
    "import scipy as sp\n",
    "from scipy import linalg\n",
    "import matplotlib.pyplot as plt\n"
   ]
  },
  {
   "cell_type": "markdown",
   "metadata": {},
   "source": [
    "Gram-Schmidt method using the method as in the slides:"
   ]
  },
  {
   "cell_type": "code",
   "execution_count": 54,
   "metadata": {},
   "outputs": [],
   "source": [
    "\n",
    "def gram_schmidt(A):\n",
    "    n, m = np.shape(A)\n",
    "\n",
    "    u = np.zeros((n,m))\n",
    "    Q = np.zeros((n,m))\n",
    "    R = np.zeros((m,m))\n",
    "\n",
    "    u[:,0] = A[:,0]\n",
    "    Q[:,0] = u[:,0]/linalg.norm(u[:,0])\n",
    "\n",
    "    for k in range(1,m):\n",
    "        u[:,k] = A[:,k]\n",
    "        \n",
    "        for j in range(k):\n",
    "            u[:,k] -= (A[:,k] @ Q[:,j]) * Q[:,j]\n",
    "\n",
    "        Q[:,k] = u[:,k]/linalg.norm(u[:,k])\n",
    "    \n",
    "    for i in range(m):\n",
    "        for j in range(i,m):\n",
    "            R[i,j] = A[:,j] @ Q[:,i]\n",
    "\n",
    "    return Q, R\n"
   ]
  },
  {
   "cell_type": "markdown",
   "metadata": {},
   "source": [
    "Testing for a matrix $A$:\n",
    "\n",
    "$$A=\\begin{pmatrix}\n",
    "1 & 0 & 1 \\\\\n",
    "0 & 1 & 0\n",
    "\\end{pmatrix}$$\n"
   ]
  },
  {
   "cell_type": "code",
   "execution_count": 55,
   "metadata": {},
   "outputs": [
    {
     "name": "stdout",
     "output_type": "stream",
     "text": [
      "[[1 0]\n",
      " [0 1]\n",
      " [1 0]]\n",
      "[[1. 0.]\n",
      " [0. 1.]\n",
      " [1. 0.]]\n"
     ]
    }
   ],
   "source": [
    "A = np.array([[1, 0, 1],\n",
    "              [0, 1, 0]])\n",
    "\n",
    "\n",
    "Q, R = gram_schmidt(np.transpose(A))\n",
    "\n",
    "print(np.transpose(A))\n",
    "print(Q@R)\n"
   ]
  },
  {
   "cell_type": "markdown",
   "metadata": {},
   "source": [
    "#### 1.e)\n",
    "\n",
    "Explain how to calculate $x_{min}$ without inverting $R^T$. Implement a function that calculates $x_{min}$ given the matrices $𝑄, R$ and the left hand side $y$. You can use the forward/backward substitution methods from Exercise 1, or even *scipy.linalg.solve_triangular*. You can for example test your algorithm on the system you proposed in task 1.a).\n"
   ]
  },
  {
   "cell_type": "markdown",
   "metadata": {},
   "source": [
    "**SOLUTION**\n",
    "\n",
    "We have that:\n",
    "\n",
    "$$ x_{min} = Q R^{-T}y$$\n",
    "\n",
    "which can be also written as,\n",
    "\n",
    "$$ R^T Q^T x_{min} = y$$\n",
    "\n",
    "By substituting $z = Q^T x_{min}$ we get:\n",
    "\n",
    "$$ R^T z = y$$\n",
    "\n",
    "This can be solved using LU factorization and get a solution for $z$, which can then be used to get $x_{min}$ by:\n",
    "\n",
    "$$Q z = Q (Q^T x_{min}) = I x_{min} = x_{min}$$"
   ]
  },
  {
   "cell_type": "markdown",
   "metadata": {},
   "source": [
    "Testing for a system $Ax = y$:\n",
    "\n",
    "$$A=\\begin{pmatrix}\n",
    "1 & 0 & 1 \\\\\n",
    "0 & 1 & 1\n",
    "\\end{pmatrix}$$\n",
    "\n",
    "$$y=\\begin{pmatrix}\n",
    "1 \\\\\n",
    "1\n",
    "\\end{pmatrix}$$\n",
    "\n",
    "which has the solution\n",
    "\n",
    "$$x=\\begin{pmatrix}\n",
    "1-x_3 \\\\\n",
    "1 \\\\\n",
    "x_3\n",
    "\\end{pmatrix}$$\n",
    "\n"
   ]
  },
  {
   "cell_type": "code",
   "execution_count": 56,
   "metadata": {},
   "outputs": [
    {
     "name": "stdout",
     "output_type": "stream",
     "text": [
      "x = 0.1\n",
      "x_norm = 1.3490737563232043\n",
      "x = 0.2\n",
      "x_norm = 1.2961481396815722\n",
      "x = 0.30000000000000004\n",
      "x_norm = 1.2569805089976536\n",
      "x = 0.4\n",
      "x_norm = 1.2328828005937953\n",
      "x = 0.5\n",
      "x_norm = 1.224744871391589\n",
      "x = 0.6\n",
      "x_norm = 1.2328828005937953\n",
      "x = 0.7000000000000001\n",
      "x_norm = 1.2569805089976536\n",
      "x = 0.8\n",
      "x_norm = 1.2961481396815722\n",
      "x = 0.9\n",
      "x_norm = 1.3490737563232043\n",
      "[0.5 1.  0.5]\n",
      "1.224744871391589\n"
     ]
    }
   ],
   "source": [
    "\n",
    "def solve_xmin(Q, R, y):\n",
    "    z = sp.linalg.solve_triangular(np.transpose(R), y, lower=True)\n",
    "    x_min = Q @ z\n",
    "\n",
    "    return x_min\n",
    "\n",
    "A = np.array([[1, 0, 1],\n",
    "              [0, 1, 0]])\n",
    "y = np.array([1,1])\n",
    "\n",
    "Q, R = gram_schmidt(np.transpose(A))\n",
    "\n",
    "x_min = solve_xmin(Q, R, y)\n",
    "\n",
    "def x_exact(x):\n",
    "    return np.array([1-x,1,x])\n",
    "\n",
    "x = np.linspace(0.1,0.9,9)\n",
    "\n",
    "for i in range(len(x)):\n",
    "    print(\"x =\",x[i])\n",
    "    print(\"x_norm =\",np.linalg.norm(x_exact(x[i])))\n",
    "\n",
    "print(x_min)\n",
    "print(np.linalg.norm(x_min))\n"
   ]
  },
  {
   "cell_type": "markdown",
   "metadata": {},
   "source": [
    "The solution got $∥x_{min}∥ = 1.224744871391589$ as the lowest norm, which corresponds to the exact solution using $x_3 = 0.5$"
   ]
  },
  {
   "cell_type": "markdown",
   "metadata": {},
   "source": [
    "#### 1.f)\n",
    "\n",
    "We now want to test our method numerically, and in particular compare against\n",
    "NumPy implementations. In the handed out code you will find a function *generate_A*\n",
    "that generates 𝑚 × 𝑛 matrices 𝐴. Given a generated 𝐴, we want to try to solve the\n",
    "problem for 100 hundred different 𝒚. In the handed out code is a also a chunk that\n",
    "generates 100 𝒙 which are componentwise i.i.d standard normal distributed using\n",
    "*np.random.normal(0.0,1.0,(100,n))*, which creates a matrix containing 100 vectors of\n",
    "size 𝑛. We can then create the left hand sides by calculating 𝒚 = 𝐴𝒙. In the handed out\n",
    "code these are stored in the arrays X and Y."
   ]
  },
  {
   "cell_type": "markdown",
   "metadata": {},
   "source": [
    "**SOLUTION**\n",
    "\n",
    "Using code handed out. Using a reduction of $f=4$ of the matrix sizes due to a slow computer. "
   ]
  },
  {
   "cell_type": "code",
   "execution_count": 57,
   "metadata": {},
   "outputs": [
    {
     "name": "stdout",
     "output_type": "stream",
     "text": [
      "(2024, 100)\n",
      "(512, 100)\n"
     ]
    }
   ],
   "source": [
    "# Generate matrix A \\in \\mathbb{R}^{m \\times n}\n",
    "\n",
    "def generate_A(m,n):\n",
    "    \"\"\"\n",
    "    Generates m times n with correlated columns.\n",
    "    Input:\n",
    "        m: int, first dimension of A\n",
    "        n: int, second dimension of A\n",
    "    output:\n",
    "        A: (m,n) array\n",
    "    \"\"\"\n",
    "\n",
    "    cov_eigvecs = np.random.uniform(-1.0,1.0,(m,m))\n",
    "    cov = cov_eigvecs.T @ cov_eigvecs\n",
    "    v = np.sqrt(np.diag(cov))\n",
    "    outer_v = np.outer(v, v)\n",
    "    corr = cov / outer_v\n",
    "    corr[cov == 0] = 0\n",
    "    chol = sp.linalg.cholesky(corr, lower=True) \n",
    "    A = np.random.normal(0, 1.0,(m,n))\n",
    "    A = np.dot(chol, A)\n",
    "    return A\n",
    "\n",
    "f = 4\n",
    "m = int(2048/f)\n",
    "n = int(8096/f)\n",
    "A = generate_A(m,n)\n",
    "\n",
    "\n",
    "N = 100 # Number of test data we want to generate\n",
    "\n",
    "# Generate solutions X columnwise, X[:,i] to access i-th vector\n",
    "X = np.random.normal(0.0,1.0,(A.shape[1],N))\n",
    "\n",
    "# Generate left hand sides Y columnwise Y[:,i] to access lhs\n",
    "Y = np.dot(A,X)\n",
    "\n",
    "# Doublecheck shapes\n",
    "print(X.shape) # Expect (n,N)\n",
    "print(Y.shape) # Expect (m,N)\n",
    "\n"
   ]
  },
  {
   "cell_type": "markdown",
   "metadata": {},
   "source": [
    "Timing the method using numpy functions:"
   ]
  },
  {
   "cell_type": "code",
   "execution_count": 58,
   "metadata": {},
   "outputs": [
    {
     "name": "stdout",
     "output_type": "stream",
     "text": [
      "1.28 s ± 0 ns per loop (mean ± std. dev. of 1 run, 1 loop each)\n"
     ]
    }
   ],
   "source": [
    "%%timeit -r 1 -n 1\n",
    "AAT = np.dot(A, A.T)\n",
    "for i in range(N):\n",
    "    z = np.linalg.solve(AAT,Y[:,i])\n",
    "    x_sol = np.dot(A.T,z)\n"
   ]
  },
  {
   "cell_type": "code",
   "execution_count": 59,
   "metadata": {},
   "outputs": [
    {
     "name": "stdout",
     "output_type": "stream",
     "text": [
      "error =  38.47680817684252\n"
     ]
    }
   ],
   "source": [
    "z = np.linalg.solve(A @ np.transpose(A),Y[:,0])\n",
    "x_sol = np.dot(np.transpose(A),z)\n",
    "\n",
    "error = np.linalg.norm(x_sol - X[:,0])\n",
    "print(\"error = \", error)"
   ]
  },
  {
   "cell_type": "markdown",
   "metadata": {},
   "source": [
    "Timing the method using the Gram-Schmidt method:"
   ]
  },
  {
   "cell_type": "code",
   "execution_count": 60,
   "metadata": {},
   "outputs": [
    {
     "name": "stdout",
     "output_type": "stream",
     "text": [
      "17.2 s ± 0 ns per loop (mean ± std. dev. of 1 run, 1 loop each)\n"
     ]
    }
   ],
   "source": [
    "%%timeit -r 1 -n 1\n",
    "Q, R = gram_schmidt(np.transpose(A))\n",
    "for i in range(N):\n",
    "    x_sol = solve_xmin(Q, R, Y[:,i])"
   ]
  },
  {
   "cell_type": "code",
   "execution_count": 61,
   "metadata": {},
   "outputs": [
    {
     "name": "stdout",
     "output_type": "stream",
     "text": [
      "error =  38.47680817684251\n"
     ]
    }
   ],
   "source": [
    "Q, R = gram_schmidt(np.transpose(A))\n",
    "x_sol = solve_xmin(Q, R, Y[:,0])\n",
    "\n",
    "error = np.linalg.norm(x_sol - X[:,0])\n",
    "print(\"error = \", error)"
   ]
  },
  {
   "cell_type": "markdown",
   "metadata": {},
   "source": [
    "This concludes that the numpy functions are almost 10 times faster. This could be due to the two for-loops used in the Gram-Schmidt method, which for large matrices uses alot of run time. Running only the Gram-Schmidt method took around 15 seconds, which confirms this.\n",
    "\n",
    "There is no difference in accuracy of the different methods, and it is therefore better to use the numpy functinos to solve this system, than the Gram-Schmidt method."
   ]
  },
  {
   "cell_type": "markdown",
   "metadata": {},
   "source": [
    "### Task 2"
   ]
  },
  {
   "cell_type": "markdown",
   "metadata": {},
   "source": [
    "#### 2.a)\n",
    "\n",
    "A solution of the Tikhonov regularisation (5) satisfies $\\nabla_xT (x) = 0$. Use this to show that a solution $x_r$ of (5) satisfies $(𝐴^TA + \\mu𝐼)x_r = 𝐴^Ty$. Show that $𝐴^T𝐴 + \\mu 𝐼$ is SPD and therefore invertible."
   ]
  },
  {
   "cell_type": "markdown",
   "metadata": {},
   "source": [
    "**SOLUTION**\n",
    "\n",
    "We have that\n",
    "\n",
    "$$T(x) = ∥Ax − y∥^2 + \\mu∥x∥^2$$\n",
    "\n",
    "$$\\begin{align*}\n",
    "\\nabla_x T(x)\n",
    "&= \\nabla_x(∥Ax − y∥^2 + \\mu∥x∥^2) \\\\\n",
    "&= 2(A^T A x -A^T y) + 2\\mu x = 0\n",
    "\\end{align*}$$\n",
    "\n",
    "$$\\Rightarrow 2 A^T A x_r - 2 A^T y + 2 \\mu x_r = 0$$\n",
    "\n",
    "$$\\Rightarrow A^T A x_r + \\mu x_r = A^T y$$\n",
    "\n",
    "$$\\Rightarrow (A^T A + \\mu I) x_r = A^T y \\tag{4}$$\n",
    "\n",
    "Showing that it is positive-definite:\n",
    "\n",
    "$$\\begin{align*}\n",
    "x^T M x\n",
    "&= x^T (A^T A + \\mu I)x \\\\\n",
    "&= x^T A^T A x + \\mu x^T I x \\\\\n",
    "&= ∥Ax∥^2 + \\mu∥x∥^2\n",
    "\\end{align*}$$\n",
    "\n",
    "$$∥Ax∥^2 ≥ 0$$\n",
    "\n",
    "$$\\mu∥x∥^2 ≥ 0$$\n",
    "\n",
    "Which is zero only when $x = 0$.\n",
    "\n",
    "Showing that it is symmetric:\n",
    "\n",
    "$$(A^T A)^T = A^T A$$\n",
    "\n",
    "$\\lambda I$ only has elements on its diagonal:\n",
    "\n",
    "$$\\lambda I =\n",
    "\\begin{pmatrix}\n",
    "\\lambda_1 & \\cdots & 0\\\\\n",
    "\\vdots & \\ddots & \\vdots \\\\\n",
    "0 & \\cdots & \\lambda_n\n",
    "\\end{pmatrix} $$\n",
    "\n",
    "Which is obviously symmetric.\n",
    "\n",
    "Since both $A^TA$ and $\\mu I$ are SPD, then their sum is SPD aswell and therefore invertible:\n",
    "\n",
    "$$x_r = (A^T A + \\mu I)^{-1} A^T y$$\n",
    "\n"
   ]
  },
  {
   "cell_type": "markdown",
   "metadata": {},
   "source": [
    "#### 2.b)\n",
    "\n",
    "Using the SVD $A = U ΣV^T$, show that $x_r$ satisfies $x_r = V DU^T y$ where $D$ is a diagonal matrix depending on the singular values $Σ$ and the parameter $\\mu$. Hint. For two diagonal matrices $D_1, D_2 ∈ \\mathbb{R}^{n\\times n}$ we have $V D_1 V^T + V D_2 V^T = V (D_1 + D_2) V^T$\n"
   ]
  },
  {
   "cell_type": "markdown",
   "metadata": {},
   "source": [
    "**SOLUTION**\n",
    "\n",
    "We have that,\n",
    "\n",
    "$$A = U \\Sigma V^T \\tag{5}$$\n",
    "\n",
    "Inserting $(4)$ in $(5)$:\n",
    "\n",
    "$$\\begin{align*}\n",
    "x_r \n",
    "&= ((U \\Sigma V^T)^T U \\Sigma V^T + \\mu I)^{-1}(U \\Sigma V^T)^T y \\\\\n",
    "&= (V \\Sigma^T U^T U \\Sigma V^T + \\mu I)^{-1}V \\Sigma^T U^T y \\\\\n",
    "&= (V \\Sigma^2 V^T + \\mu I)^{-1} V \\Sigma U^T y \\\\\n",
    "&= (V \\Sigma^2 V^T + \\mu^{-1} I) V \\Sigma U^T y \\\\\n",
    "&= V (\\Sigma^{-2} + \\mu^{-1}) \\Sigma U^T y \\\\\n",
    "&= VDU^Ty\n",
    "\\end{align*}$$\n",
    "\n",
    "$D = (\\Sigma^2 + \\mu)^{-1} \\Sigma$, $D \\in \\mathbb{R}^{n\\times m}$, which looks like:\n",
    "\n",
    "$$D =\n",
    "\\begin{pmatrix}\n",
    "\\frac{\\sigma_1}{\\sigma_1^2+\\mu} & \\cdots & 0\\\\\n",
    "\\vdots & \\ddots & \\vdots \\\\\n",
    "0 & \\cdots & \\frac{\\sigma_n}{\\sigma_n^2+\\mu} \\\\\n",
    "\\vdots & & \\vdots \\\\\n",
    "0 & \\cdots & 0\n",
    "\\end{pmatrix} $$\n",
    "\n",
    "Since the $n-m$ last rows are zero vectors, we can also use the reduced matrix:\n",
    "\n",
    "$$D =\n",
    "\\begin{pmatrix}\n",
    "\\frac{\\sigma_1}{\\sigma_1^2+\\mu} & \\cdots & 0\\\\\n",
    "\\vdots & \\ddots & \\vdots \\\\\n",
    "0 & \\cdots & \\frac{\\sigma_n}{\\sigma_n^2+\\mu} \\\\\n",
    "\\end{pmatrix} $$\n",
    "\n",
    "where $D \\in \\mathbb{R}^{m\\times m}$\n",
    "\n",
    "We then have to use the reduced $V \\in \\mathbb{R}^{n\\times m}$\n"
   ]
  },
  {
   "cell_type": "markdown",
   "metadata": {},
   "source": [
    "#### 2.c)\n",
    "\n",
    "Write a function *Tikhonov_solveSVD(U,S,Vt,mu)* that computes $x_r$ based on $A$ and $\\mu$ using\n",
    "the SVD approach from 2.b). Note that the singular values $Σ$ should be stored in a vector, not an actual diagonal matrix."
   ]
  },
  {
   "cell_type": "markdown",
   "metadata": {},
   "source": [
    "**SOLUTION**\n",
    "\n",
    "Solving the system:\n",
    "\n",
    "$$x_r = VDU^T y \\tag{6}$$\n",
    "\n",
    "First by calculating the SVD of $A$, to get $U$, $V$ and $\\Sigma$, then creating the matrix $D$:\n",
    "\n",
    "$$D =\n",
    "\\begin{pmatrix}\n",
    "\\frac{\\sigma_1}{\\sigma_1^2+\\mu} & \\cdots & 0\\\\\n",
    "\\vdots & \\ddots & \\vdots \\\\\n",
    "0 & \\cdots & \\frac{\\sigma_n}{\\sigma_n^2+\\mu}\n",
    "\\end{pmatrix} $$\n",
    "\n",
    "Checking dimention of $x_r$:\n",
    "\n",
    "$\\dim{D} = (n \\times m) \\cdot (m \\times m) \\cdot (m \\times m) \\cdot (m \\times 1) = n \\times 1$\n",
    "\n",
    "Have to transpose $V$ since the matrix is of shape $m \\times n$ when using *np.linalg.svd*\n",
    "\n",
    "Checking for a system tested earlier, using $\\mu = 0$, which corresponds to the least square method"
   ]
  },
  {
   "cell_type": "code",
   "execution_count": 62,
   "metadata": {},
   "outputs": [
    {
     "name": "stdout",
     "output_type": "stream",
     "text": [
      "[0.35714286 0.21428571 0.42857143]\n"
     ]
    }
   ],
   "source": [
    "def Tikhonov_solveSVD(U, S, Vt, mu, y):\n",
    "    D = np.identity(len(S)) * S / (np.power(S,2) + mu)\n",
    "    x_r = np.transpose(Vt) @ D @ np.transpose(U) @ y\n",
    "    return x_r\n",
    "\n",
    "mu = 0\n",
    "\n",
    "A_test = np.array([[1, -1, 2],\n",
    "              [1, 1, 1]])\n",
    "y = np.array([1,1])\n",
    "\n",
    "U, S, Vt = np.linalg.svd(A_test, full_matrices=False)\n",
    "x_r = Tikhonov_solveSVD(U, S, Vt, mu, y)\n",
    "print(x_r)\n"
   ]
  },
  {
   "cell_type": "markdown",
   "metadata": {},
   "source": [
    "#### 2.d)\n",
    "\n",
    "We now want to do another numerical experiment. This time we are not interested in solving for many different left hand sides $y$, but rather many different regularisation parameters $\\mu$. We use the same function as we did in Task 1 for generating a matrix $A$. Generate 100 logarithmically spaced values of $\\mu \\in [10−6,106]$ using for example *np.logspace(5,-6,num = 100)* (you should iterate starting with the largest values of $\\mu$), and calculate $x_r$ for each of these $\\mu$. We denote the solution for a given $\\mu$ as $x_r(\\mu)$. We want to test two approaches:\n"
   ]
  },
  {
   "cell_type": "markdown",
   "metadata": {},
   "source": [
    "**SOLUTION**\n",
    "\n",
    "**1)**\n",
    "\n",
    "Creating an array of $\\mu$ from $10^5$ to $10^{-6}$ with $N=100$ values\n",
    "\n",
    "Solving $x_r$ from:\n",
    "\n",
    "$$x_r = VD_iU^Ty$$\n",
    "\n",
    "where $D_i = (\\Sigma^{-2} + \\mu_i^{-1}) \\Sigma$ and $\\mu_i \\in \\mu$\n",
    "\n",
    "Solving the SVD once using *np.linalg.svd*, since the values are constant for different $\\mu$\n",
    "\n",
    "Calculating the error by:\n",
    "\n",
    "$$e(\\mu) = ∥x_r(\\mu) - x_{true}∥$$"
   ]
  },
  {
   "cell_type": "code",
   "execution_count": 63,
   "metadata": {},
   "outputs": [],
   "source": [
    "mu_1 = np.logspace(5,-6,num = N)\n",
    "error_1 = np.zeros(N)"
   ]
  },
  {
   "cell_type": "code",
   "execution_count": 64,
   "metadata": {},
   "outputs": [
    {
     "name": "stdout",
     "output_type": "stream",
     "text": [
      "9.28 s ± 0 ns per loop (mean ± std. dev. of 1 run, 1 loop each)\n"
     ]
    }
   ],
   "source": [
    "%%timeit -r 1 -n 1\n",
    "U, S, Vt = np.linalg.svd(A, full_matrices = False)\n",
    "for i in range(N):\n",
    "    x_r = Tikhonov_solveSVD(U, S, Vt, mu_1[i], Y[:,i])\n",
    "    error_1[i] = np.linalg.norm(x_r - X[:,i])\n"
   ]
  },
  {
   "cell_type": "markdown",
   "metadata": {},
   "source": [
    "**2)**\n",
    "\n",
    "Solving the system:\n",
    "\n",
    "$$(A^T A + \\mu I)x_r = A^T y$$\n",
    "\n",
    "by using $M = A^TA + \\mu I$ and $b = A^T y$, we get:\n",
    "\n",
    "$$Mx_r = b$$\n",
    "\n",
    "Then we get $x_r$ by using numpys function *np.linalg.solve(M,b)*"
   ]
  },
  {
   "cell_type": "code",
   "execution_count": 65,
   "metadata": {},
   "outputs": [],
   "source": [
    "mu_2 = np.logspace(5,-6,num = 10)\n",
    "error_2 = np.zeros(10)"
   ]
  },
  {
   "cell_type": "code",
   "execution_count": 66,
   "metadata": {},
   "outputs": [
    {
     "name": "stdout",
     "output_type": "stream",
     "text": [
      "4.27 s ± 0 ns per loop (mean ± std. dev. of 1 run, 1 loop each)\n"
     ]
    }
   ],
   "source": [
    "%%timeit -r 1 -n 1\n",
    "ATA = np.dot(A.T, A)\n",
    "b = A.T @ Y\n",
    "for i in range(10):\n",
    "    M = ATA + mu_2[i]*np.identity(n)\n",
    "    x_r = np.linalg.solve(M,b[:,i])\n",
    "    error_2[i] = np.linalg.norm(x_r - X[:,i])\n"
   ]
  },
  {
   "cell_type": "markdown",
   "metadata": {},
   "source": [
    "The numpy functions about one-third less time, but it only used $10$ different values for $\\mu$ instead of $100$ for the Tikhonov method. This could mean that if tested with equal amounts of $\\mu$ values the Tikhonov method could be faster. This because we use the SVD before the for-loop, which reduces the run time, and it is only necessary to solve for $x_r$ using $U$, $V$ and $\\Sigma$"
   ]
  },
  {
   "cell_type": "code",
   "execution_count": 67,
   "metadata": {},
   "outputs": [
    {
     "data": {
      "image/png": "[encoded data removed]",
      "text/plain": [
       "<Figure size 432x288 with 1 Axes>"
      ]
     },
     "metadata": {
      "needs_background": "light"
     },
     "output_type": "display_data"
    }
   ],
   "source": [
    "plt.figure()\n",
    "plt.title(f\"Error as a function of $\\mu$\")\n",
    "plt.plot(mu_1, error_1, label=\"Own solution\")\n",
    "plt.plot(mu_2, error_2, label=\"Numpy solution\")\n",
    "plt.xscale('log')\n",
    "plt.xlabel(r\"$\\mu$\")\n",
    "plt.ylabel(r\"$error(\\mu) = ∥x_r(\\mu) - x_{true}∥$\")\n",
    "plt.legend()\n",
    "plt.show()"
   ]
  },
  {
   "cell_type": "markdown",
   "metadata": {},
   "source": [
    "We see that the error is almost the same for both methods, and that the solution $x_r$ is closer to $x_{true}$ for a small $\\mu$."
   ]
  },
  {
   "cell_type": "markdown",
   "metadata": {},
   "source": [
    "### Task 3\n",
    "\n",
    "#### 3.a)\n",
    "\n",
    "Let $B = I −WW^T$ and $W$ be a matrix with (pairwise) orthogonal columns. Show that $B$ is a projection matrix (i. e. $𝐵^2 = 𝐵$) and that it is symmetric positive semi-definite.\n",
    "\n",
    "*Hint.* Use the definition of eigenvalues and eigenvectors 𝐴𝒗 = 𝜆𝒗 to show that a\n",
    "projection matrix can only have two different eigenvalues.\n"
   ]
  },
  {
   "cell_type": "markdown",
   "metadata": {},
   "source": [
    "**SOLUTION**\n",
    "\n",
    "We know that for pairwise matrices $W^TW = I$, but $WW^T \\ne I$\n",
    "\n",
    "Therefore by solving $B^2$:\n",
    "\n",
    "$$\\begin{align*}\n",
    "B^2\n",
    "&= (I - WW^T)(I - WW^T) \\\\\n",
    "&= I^2 - IWW^T - WW^TI + WW^TWW^T \\\\\n",
    "&= I -WW^T -WW^T + WW^T \\\\\n",
    "&= I - WW^T = B\n",
    "\\end{align*}$$\n",
    "\n",
    "Showing $B$  is symmetric:\n",
    "\n",
    "$$B^T = (I - WW^T)^T = I^T - (WW^T)^T = I - WW^T = B$$\n",
    "\n",
    "Showing it is semi-positive definite:\n",
    "\n",
    "We have that,\n",
    "\n",
    "$$\\lambda^2 v = B^2v = Bv = \\lambda v$$\n",
    "\n",
    "and since $v \\ne 0$ we have:\n",
    "\n",
    "$$\\lambda^2 = \\lambda$$\n",
    "\n",
    "Which only has two solutions; $\\lambda_1 = 0$ and $\\lambda_2 = 1$, and is therefore semi-positive definite\n"
   ]
  },
  {
   "cell_type": "markdown",
   "metadata": {},
   "source": [
    "#### 3.c)\n",
    "\n",
    "Tikhonov regularisation\n",
    "\n",
    "**1)**"
   ]
  },
  {
   "cell_type": "markdown",
   "metadata": {},
   "source": [
    "\n",
    "**SOLUTION**\n",
    "\n",
    "We have the Tikhonov regularisation:\n",
    "\n",
    "$$T(x) = ∥Ax -y∥^2 + \\mu∥Bx∥^2$$\n",
    "\n",
    "and that the a solution of the Tikhonov regularisation satisfies $\\nabla_x T(x) = 0$, we then get\n",
    "\n",
    "$$\\nabla_x T(x) = 2(A^TA x - A^T y) + 2 \\mu B^T B x = 0$$\n",
    "\n",
    "$$\\Rightarrow 2A^T A x - 2A^T y + 2\\mu B^T B x = 0$$\n",
    "\n",
    "$$\\Rightarrow A^TAx + \\mu B^T Bx = A^T y$$\n",
    "\n",
    "$$\\Rightarrow (A^TA + \\mu B^TB)x = A^T y$$\n",
    "\n",
    "And in our case $x = \\begin{pmatrix} u \\\\ v \\end{pmatrix} \\in \\mathbb{R}^{2n}$, $B = \\begin{bmatrix} B_0 & 0 \\\\ 0 & B_1 \\end{bmatrix}$, and $A = \\begin{bmatrix} I \\\\ I \\end{bmatrix}$ we get:\n",
    "\n",
    "$$\\left( \\begin{pmatrix} I \\\\ I \\end{pmatrix}^T \\begin{pmatrix} I \\\\ I \\end{pmatrix} + \\mu B^T B \\right)\\begin{pmatrix} u \\\\ v \\end{pmatrix} = \\begin{pmatrix} I \\\\ I \\end{pmatrix}^T y$$\n",
    "\n",
    "$$\\Rightarrow\n",
    "\\left(\\begin{bmatrix}\n",
    "I & I \\\\\n",
    "I & I\n",
    "\\end{bmatrix}\n",
    "+\n",
    "\\mu\n",
    "\\begin{bmatrix}\n",
    "B_0^2 & 0 \\\\\n",
    "0 & B_1^2\n",
    "\\end{bmatrix}\n",
    "\\right)\n",
    "\\begin{bmatrix}\n",
    "u \\\\ v \\end{bmatrix} =\n",
    "\\begin{bmatrix}\n",
    "y \\\\ y \\end{bmatrix}$$\n",
    "\n",
    "Which is equivalent to the system (since $B^2 = B$):\n",
    "\n",
    "$$\\begin{bmatrix}\n",
    "I + \\mu B_0 & I \\\\\n",
    "I & I + \\mu B_1 \n",
    "\\end{bmatrix}\n",
    "\\begin{bmatrix}\n",
    "u \\\\ v \\end{bmatrix} =\n",
    "\\begin{bmatrix}\n",
    "y \\\\ y \\end{bmatrix}$$"
   ]
  },
  {
   "cell_type": "markdown",
   "metadata": {},
   "source": [
    "**2)**\n",
    "\n",
    "Show that you can solve this by first solving a system $C_0u = d_0$ for some matrix $C_0$ and vector $d_0$, and then another similar system $C_1v = d_1$.\n"
   ]
  },
  {
   "cell_type": "markdown",
   "metadata": {},
   "source": [
    "**SOLUTION**"
   ]
  },
  {
   "cell_type": "markdown",
   "metadata": {},
   "source": [
    "The system is:\n",
    "\n",
    "1. $$(I+\\mu B_0)u + Iv = y$$\n",
    "\n",
    "2. $$Iu + (I+\\mu B_1)v = y$$\n",
    "\n",
    "The first one can be written as:\n",
    "\n",
    "$$(I + \\mu B_0) u = y - v$$\n",
    "\n",
    "and by subsitution $C_0 = \\mu B_0$ and $d_0 = y - v$, we get:\n",
    "\n",
    "$$C_0 u = d_0 \\tag{7}$$\n",
    "\n",
    "With the second one we get (using the solution of $u$ from the previous system):\n",
    "\n",
    "$$(I + \\mu B_1) v = y - u$$\n",
    "\n",
    "and by substituting $C_1 = I + \\mu B_1$ and $d_1 = y - u$, we get:\n",
    "\n",
    "$$C_1 v = d_1 \\tag{8}$$\n",
    "\n",
    "Since we dont have the first $v$, we use first $v_0=0$ and iterate such that we use the previous $v_{i-1}$ to calculate the next $v_i$\n"
   ]
  },
  {
   "cell_type": "markdown",
   "metadata": {},
   "source": [
    "#### 3)\n",
    "\n",
    "Implement a suitable method for calculating 𝒖 and 𝒗 using the Tikhonov regularisation approach. You can use any method from the lecture or this project, including any NumPy or SciPy functions. Make sure to concisely explain your method and potential advantages/disadvantages. Select for example $\\mu = 1.0$, but feel free to try other parameters."
   ]
  },
  {
   "cell_type": "markdown",
   "metadata": {},
   "source": [
    "**SOLUTION**"
   ]
  },
  {
   "cell_type": "markdown",
   "metadata": {},
   "source": [
    "Solving first:\n",
    "\n",
    "$$C_0 u = d_0$$\n",
    "\n",
    "where $C_0 = \\mu B_0$ and $d_0 = 0$, by using *np.linalg.solve(C_0,d_0)*\n",
    "\n",
    "Then solve the second system using the previous solution $u$:\n",
    "\n",
    "$$C_1 v = d_1$$\n",
    "\n",
    "where $C_1 = I + \\mu B_1$ and $d_1 = y - u$ with *np.linalg.solve(C_1,d_1)*"
   ]
  },
  {
   "cell_type": "code",
   "execution_count": 118,
   "metadata": {},
   "outputs": [],
   "source": [
    "mu = 1.0\n",
    "\n",
    "def Tikhonov_solve(B_0, B_1, y, d):\n",
    "    C_0 = np.identity(n) + mu * B_0\n",
    "    d_0 = y - d\n",
    "    u = np.linalg.solve(C_0, d_0)\n",
    "\n",
    "    C_1 = np.identity(n) + mu * B_1\n",
    "    d_1 = y - u\n",
    "\n",
    "    v = np.linalg.solve(C_1, d_1)\n",
    "\n",
    "    return np.array((u, v))\n"
   ]
  },
  {
   "cell_type": "markdown",
   "metadata": {},
   "source": [
    "#### 3.d)\n",
    "\n",
    "Test the solver you developed in 3.b) or 3.c) by first loading the basis vectors stored\n",
    "in W0.npy and W1.npy. See the handed out code for how to do this. Test your method\n",
    "on the data in mixed.npy, which contains 100 different test examples. Time how long\n",
    "it takes to separate all 100 images, and plot at least one example and the resulting\n",
    "separated images. Make a quick qualitative assessment of the separated image(s). Does\n",
    "this approach work for single channel source separation? Does the approach have some\n",
    "drawbacks?\n"
   ]
  },
  {
   "cell_type": "markdown",
   "metadata": {},
   "source": [
    "**SOLUTION**"
   ]
  },
  {
   "cell_type": "code",
   "execution_count": 93,
   "metadata": {},
   "outputs": [
    {
     "name": "stdout",
     "output_type": "stream",
     "text": [
      "(784, 100)\n"
     ]
    },
    {
     "data": {
      "image/png": "[encoded data removed]",
      "text/plain": [
       "<Figure size 432x288 with 1 Axes>"
      ]
     },
     "metadata": {
      "needs_background": "light"
     },
     "output_type": "display_data"
    },
    {
     "data": {
      "image/png": "[encoded data removed]",
      "text/plain": [
       "<Figure size 432x288 with 1 Axes>"
      ]
     },
     "metadata": {
      "needs_background": "light"
     },
     "output_type": "display_data"
    }
   ],
   "source": [
    "Mixes = np.load('Data/mixed.npy')\n",
    "print(Mixes.shape) # Should be (784,100)\n",
    "\n",
    "plt.imshow(Mixes[:,1].reshape((28,28)), cmap = 'gray')\n",
    "plt.axis('off') # Removes the x and y axis to plot only the image\n",
    "plt.show()\n",
    "\n",
    "plt.imshow(Mixes[:,32].reshape((28,28)), cmap = 'gray')\n",
    "plt.axis('off') # Removes the x and y axis to plot only the image\n",
    "plt.show()"
   ]
  },
  {
   "cell_type": "code",
   "execution_count": 131,
   "metadata": {},
   "outputs": [
    {
     "name": "stdout",
     "output_type": "stream",
     "text": [
      "(784, 16)\n",
      "(784, 16)\n"
     ]
    },
    {
     "data": {
      "image/png": "[encoded data removed]",
      "text/plain": [
       "<Figure size 432x288 with 1 Axes>"
      ]
     },
     "metadata": {
      "needs_background": "light"
     },
     "output_type": "display_data"
    },
    {
     "data": {
      "image/png": "[encoded data removed]",
      "text/plain": [
       "<Figure size 432x288 with 1 Axes>"
      ]
     },
     "metadata": {
      "needs_background": "light"
     },
     "output_type": "display_data"
    },
    {
     "data": {
      "image/png": "[encoded data removed]",
      "text/plain": [
       "<Figure size 432x288 with 1 Axes>"
      ]
     },
     "metadata": {
      "needs_background": "light"
     },
     "output_type": "display_data"
    }
   ],
   "source": [
    "W0 = np.load('Data/W0.npy')\n",
    "W1 = np.load('Data/W1.npy')\n",
    "print(W0.shape) # Should be (784,16)\n",
    "print(W1.shape) # Should be (784,16)\n",
    "\n",
    "plt.imshow(W0[:,0].reshape((28,28)), cmap = 'gray')\n",
    "plt.axis('off')\n",
    "plt.show()\n",
    "\n",
    "W0TW0 = np.dot(W0.T, W0)\n",
    "plt.imshow(W0TW0)\n",
    "plt.show()"
   ]
  },
  {
   "cell_type": "markdown",
   "metadata": {},
   "source": [
    "First creating the matrices $B_0$ and $B_1$ using the basis vectores $W_0$ and $W_1$. Then creating a iterated for-loop to calculate $u$ and $v$. First iteration using $v=0$, then for the next one use the previous solution for $v$. Iterating 100 times and plotting results."
   ]
  },
  {
   "cell_type": "code",
   "execution_count": 127,
   "metadata": {},
   "outputs": [],
   "source": [
    "n = 784\n",
    "\n",
    "B_0 = np.identity(n) - W0 @ np.transpose(W0)\n",
    "B_1 = np.identity(n) - W1 @ np.transpose(W1)\n",
    "\n"
   ]
  },
  {
   "cell_type": "code",
   "execution_count": 130,
   "metadata": {},
   "outputs": [
    {
     "data": {
      "image/png": "[encoded data removed]",
      "text/plain": [
       "<Figure size 432x288 with 1 Axes>"
      ]
     },
     "metadata": {
      "needs_background": "light"
     },
     "output_type": "display_data"
    },
    {
     "data": {
      "image/png": "[encoded data removed]",
      "text/plain": [
       "<Figure size 432x288 with 1 Axes>"
      ]
     },
     "metadata": {
      "needs_background": "light"
     },
     "output_type": "display_data"
    },
    {
     "name": "stdout",
     "output_type": "stream",
     "text": [
      "5.22 s ± 0 ns per loop (mean ± std. dev. of 1 run, 1 loop each)\n"
     ]
    }
   ],
   "source": [
    "%%timeit -r 1 -n 1\n",
    "d_prev = 0\n",
    "for i in range(100):\n",
    "    d_next = d_prev\n",
    "    x = Tikhonov_solve(B_0, B_1, Mixes[:,i], d_next)\n",
    "    u, v = x\n",
    "    d_prev = v\n",
    "\n",
    "plt.imshow(u.reshape((28,28)), cmap = 'gray')\n",
    "plt.axis('off')\n",
    "plt.show()\n",
    "plt.imshow(v.reshape((28,28)), cmap = 'gray')\n",
    "plt.axis('off')\n",
    "plt.show()"
   ]
  },
  {
   "cell_type": "markdown",
   "metadata": {},
   "source": [
    "We see that we manage to split the data into 0 and 1 to a certain degree. Could have iterated for a longer period and use a stopping criterion such that the two images are least equal. To conclude it took 70 seconds to separate 100 images."
   ]
  }
 ],
 "metadata": {
  "kernelspec": {
   "display_name": "Python 3.8.10 64-bit (microsoft store)",
   "language": "python",
   "name": "python3"
  },
  "language_info": {
   "codemirror_mode": {
    "name": "ipython",
    "version": 3
   },
   "file_extension": ".py",
   "mimetype": "text/x-python",
   "name": "python",
   "nbconvert_exporter": "python",
   "pygments_lexer": "ipython3",
   "version": "3.8.10"
  },
  "orig_nbformat": 4,
  "vscode": {
   "interpreter": {
    "hash": "6cb28464b141d7d59adeed9c7ae47bc35932ea34445b60e35d4d557be0b0880b"
   }
  }
 },
 "nbformat": 4,
 "nbformat_minor": 2
}
